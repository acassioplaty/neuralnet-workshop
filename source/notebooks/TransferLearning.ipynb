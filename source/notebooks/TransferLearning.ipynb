{
 "cells": [
  {
   "cell_type": "code",
   "execution_count": null,
   "metadata": {
    "collapsed": true
   },
   "outputs": [],
   "source": [
    "!pip install kaggle\n",
    "from google.colab import files\n",
    "files.upload()"
   ]
  },
  {
   "cell_type": "code",
   "execution_count": null,
   "metadata": {
    "collapsed": true
   },
   "outputs": [],
   "source": [
    "!mkdir -p ~/.kaggle\n",
    "!cp kaggle.json ~/.kaggle/\n",
    "!chmod 600 /root/.kaggle/kaggle.json\n",
    "!kaggle competitions download -c dog-breed-identification\n",
    "!unzip test.zip\n",
    "!unzip train.zip\n",
    "!unzip labels.csv.zip"
   ]
  },
  {
   "cell_type": "code",
   "execution_count": null,
   "metadata": {
    "collapsed": true
   },
   "outputs": [],
   "source": [
    "labels = pd.read_csv(\"labels.csv\")\n",
    "\n",
    "def load_dataset(path):\n",
    "    data = os.listdir(path)\n",
    "    dog_files = [file_.replace(\".jpg\",\"\") for file_ in data]\n",
    "    data_ = pd.DataFrame.from_dict({\"id\":dog_files})\n",
    "    dogs = pd.merge(data_, labels, on=\"id\", how=\"left\")\n",
    "    return dogs\n",
    "\n",
    "train_files = load_dataset(\"train\")\n",
    "train_test = load_dataset(\"test\")\n"
   ]
  }
 ],
 "metadata": {
  "kernelspec": {
   "display_name": "Python [conda root]",
   "language": "python",
   "name": "conda-root-py"
  },
  "language_info": {
   "codemirror_mode": {
    "name": "ipython",
    "version": 3
   },
   "file_extension": ".py",
   "mimetype": "text/x-python",
   "name": "python",
   "nbconvert_exporter": "python",
   "pygments_lexer": "ipython3",
   "version": "3.5.2"
  }
 },
 "nbformat": 4,
 "nbformat_minor": 1
}
